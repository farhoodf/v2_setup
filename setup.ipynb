{
 "cells": [
  {
   "cell_type": "code",
   "execution_count": null,
   "metadata": {},
   "outputs": [],
   "source": [
    "from utils import Server, get_free_server_config, get_restricted_server_config"
   ]
  },
  {
   "cell_type": "code",
   "execution_count": null,
   "metadata": {},
   "outputs": [],
   "source": [
    "free_ip = \"IP\"\n",
    "free_username = \"USERNAME\"\n",
    "free_password = \"PASSWORD\"\n",
    "\n",
    "restricted_ip = \"IP\"\n",
    "restricted_username = \"USERNAME\"\n",
    "restricted_password = \"PASSWORD\""
   ]
  },
  {
   "cell_type": "code",
   "execution_count": null,
   "metadata": {},
   "outputs": [],
   "source": [
    "free_server = Server(free_server_ip, free_username, free_password)\n",
    "restricted_server = Server(restricted_server_ip, restricted_username, restricted_password)"
   ]
  },
  {
   "cell_type": "code",
   "execution_count": null,
   "metadata": {},
   "outputs": [],
   "source": [
    "# You can pass update_first=True, but it is recommended to update and upgrade packages manually.\n",
    "if free_server.install():\n",
    "    print(\"V2ray is installed on the Free Server\")\n",
    "if restricted_server.install():\n",
    "    print(\"V2ray is installed on the Restricted Server\")"
   ]
  },
  {
   "cell_type": "code",
   "execution_count": null,
   "metadata": {},
   "outputs": [],
   "source": [
    "free_server_config, free_server_uid, free_server_port = get_free_server_config()\n",
    "restricted_server_config, uris = get_restricted_server_config(free_server_uid,\n",
    "                                                              free_server_ip,\n",
    "                                                              restricted_server_ip,\n",
    "                                                              free_server_port,\n",
    "                                                              name=\"test\")"
   ]
  },
  {
   "cell_type": "code",
   "execution_count": null,
   "metadata": {},
   "outputs": [],
   "source": [
    "free_server.setup(free_server_config, free_server_port)\n",
    "restricted_server.setup(restricted_server_config)"
   ]
  }
 ],
 "metadata": {
  "kernelspec": {
   "display_name": "Python 3",
   "language": "python",
   "name": "python3"
  },
  "language_info": {
   "codemirror_mode": {
    "name": "ipython",
    "version": 3
   },
   "file_extension": ".py",
   "mimetype": "text/x-python",
   "name": "python",
   "nbconvert_exporter": "python",
   "pygments_lexer": "ipython3",
   "version": "3.8.5"
  }
 },
 "nbformat": 4,
 "nbformat_minor": 4
}
